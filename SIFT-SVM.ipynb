{
 "cells": [
  {
   "cell_type": "code",
   "execution_count": 1,
   "metadata": {},
   "outputs": [],
   "source": [
    "import cv2\n",
    "import numpy as np\n",
    "import matplotlib.pyplot as plt\n",
    "from sklearn.cluster import KMeans\n",
    "from sklearn import svm\n",
    "from sklearn import linear_model\n",
    "import csv\n",
    "from sklearn.model_selection import train_test_split\n",
    "from sklearn.externals import joblib\n",
    "from sklearn.metrics import confusion_matrix\n",
    "\n",
    "def getData(filename):\n",
    "    # images are 48x48\n",
    "    Y = []\n",
    "    X = []\n",
    "    first = True\n",
    "    \n",
    "    for line in open(filename):\n",
    "\n",
    "        if first:\n",
    "            first = False\n",
    "        else:\n",
    "            row = line.split(',')\n",
    "            Y.append(int(row[0]))\n",
    "            X.append([int(p) for p in row[1].split()])\n",
    "    X,Y = np.array(X).reshape(-1,48,48), np.array(Y)\n",
    "    return X, Y\n",
    "\n",
    "X, Y = getData('fer2013.csv')\n",
    "\n",
    "\n",
    "X_Train, X_Test, Y_Train, Y_Test=train_test_split(X, Y, test_size=0.1, random_state=0)\n",
    "X_Train=X_Train.astype(np.uint8)\n",
    "X_Test=X_Test.astype(np.uint8)\n",
    "sift = cv2.xfeatures2d.SIFT_create()\n",
    "\n"
   ]
  },
  {
   "cell_type": "code",
   "execution_count": 2,
   "metadata": {},
   "outputs": [],
   "source": [
    "def Key_Features(X):\n",
    "    descriptor=np.array([])\n",
    "    for i in range(len(X)):\n",
    "        kp, des = sift.detectAndCompute(X[i],None)\n",
    "        if i==0:\n",
    "            descriptor=des\n",
    "            continue\n",
    "        if np.shape(des) == ():\n",
    "            continue\n",
    "        descriptor=np.vstack((descriptor,des))\n",
    "    return descriptor\n",
    "    \n",
    "def descriptor(X,Y):\n",
    "    Img_desc=[]\n",
    "    for i in range(len(X)):\n",
    "        kp, des = sift.detectAndCompute(X[i],None)\n",
    "        if np.shape(des) == ():\n",
    "            Y=np.delete(Y,Y[i])\n",
    "            continue\n",
    "        Img_desc.append(des)\n",
    "    return Img_desc, Y\n",
    "\n"
   ]
  },
  {
   "cell_type": "code",
   "execution_count": 3,
   "metadata": {},
   "outputs": [
    {
     "name": "stdout",
     "output_type": "stream",
     "text": [
      "load model\n"
     ]
    }
   ],
   "source": [
    "# if you use a save model then turn it True ,otherwise if you run the whole code turn it False\n",
    "is_model_saved = True\n",
    "if(is_model_saved==False ): \n",
    "    Key_Features= Key_Features(X_Train)\n",
    "    kmeans = KMeans(n_clusters=2000, random_state=0).fit(Key_Features)\n",
    "    joblib.dump(kmeans, 'sift_model.pkl')\n",
    "else:\n",
    "    print('load model')\n",
    "    kmeans = joblib.load('sift_model.pkl')"
   ]
  },
  {
   "cell_type": "code",
   "execution_count": 4,
   "metadata": {},
   "outputs": [],
   "source": [
    "\n",
    "def Features_SVM(data):\n",
    "    X=[]\n",
    "    for i in data:\n",
    "        x=kmeans.predict(i)\n",
    "        a,b=np.histogram(x,bins=2000,range=(-0.5,1999.5))\n",
    "        X.append(a)\n",
    "    return X\n",
    "\n",
    "\n",
    "    "
   ]
  },
  {
   "cell_type": "code",
   "execution_count": 5,
   "metadata": {},
   "outputs": [
    {
     "name": "stderr",
     "output_type": "stream",
     "text": [
      "/home/hfahad/anaconda3/lib/python3.6/site-packages/sklearn/linear_model/stochastic_gradient.py:128: FutureWarning: max_iter and tol parameters have been added in <class 'sklearn.linear_model.stochastic_gradient.SGDClassifier'> in 0.19. If both are left unset, they default to max_iter=5 and tol=None. If tol is not None, max_iter defaults to max_iter=1000. From 0.21, default max_iter will be 1000, and default tol will be 1e-3.\n",
      "  \"and default tol will be 1e-3.\" % type(self), FutureWarning)\n"
     ]
    },
    {
     "data": {
      "text/plain": [
       "SGDClassifier(alpha=0.0001, average=False, class_weight=None, epsilon=0.1,\n",
       "       eta0=0.0, fit_intercept=True, l1_ratio=0.15,\n",
       "       learning_rate='optimal', loss='hinge', max_iter=None, n_iter=None,\n",
       "       n_jobs=1, penalty='l2', power_t=0.5, random_state=None,\n",
       "       shuffle=True, tol=None, verbose=0, warm_start=False)"
      ]
     },
     "execution_count": 5,
     "metadata": {},
     "output_type": "execute_result"
    }
   ],
   "source": [
    "x_train, y_train_svm = descriptor(X_Train,Y_Train)\n",
    "x_test, y_test_svm = descriptor(X_Test,Y_Test)\n",
    "x_train_svm = Features_SVM(x_train)\n",
    "x_test_svm = Features_SVM(x_test)\n",
    "lin_clf = linear_model.SGDClassifier()\n",
    "lin_clf.fit(x_train_svm,y_train_svm)"
   ]
  },
  {
   "cell_type": "code",
   "execution_count": 6,
   "metadata": {},
   "outputs": [
    {
     "name": "stdout",
     "output_type": "stream",
     "text": [
      "0.15858416945373466\n"
     ]
    }
   ],
   "source": [
    "def accuracy(Y_actual,Y_predicted):\n",
    "    j=0\n",
    "    for i in range(len(Y_predicted)):\n",
    "        if Y_actual[i]==Y_predicted[i]:\n",
    "            j=j+1\n",
    "    return (j/len(Y_predicted))\n",
    "    \n",
    "Y_predict=lin_clf.predict(x_test_svm)\n",
    "print(accuracy(Y_predict,y_test_svm))\n"
   ]
  },
  {
   "cell_type": "code",
   "execution_count": 7,
   "metadata": {},
   "outputs": [
    {
     "name": "stdout",
     "output_type": "stream",
     "text": [
      "Normalized confusion matrix\n",
      "[[0.15 0.02 0.18 0.15 0.23 0.05 0.21]\n",
      " [0.12 0.02 0.2  0.09 0.32 0.09 0.16]\n",
      " [0.15 0.01 0.18 0.18 0.23 0.08 0.17]\n",
      " [0.18 0.02 0.17 0.16 0.24 0.05 0.19]\n",
      " [0.18 0.01 0.17 0.17 0.21 0.06 0.19]\n",
      " [0.17 0.02 0.19 0.17 0.19 0.07 0.19]\n",
      " [0.18 0.02 0.17 0.14 0.25 0.06 0.18]]\n"
     ]
    },
    {
     "data": {
      "image/png": "[encoded data removed]",
      "text/plain": [
       "<matplotlib.figure.Figure at 0x7f0c1ca99be0>"
      ]
     },
     "metadata": {},
     "output_type": "display_data"
    }
   ],
   "source": [
    "import itertools\n",
    "import numpy as np\n",
    "import matplotlib.pyplot as plt\n",
    "\n",
    "\n",
    "\n",
    "def plot_confusion_matrix(cm, classes,\n",
    "                          normalize=False,\n",
    "                          title='Confusion matrix',\n",
    "                          cmap=plt.cm.Blues):\n",
    "    \"\"\"\n",
    "    This function prints and plots the confusion matrix.\n",
    "    Normalization can be applied by setting `normalize=True`.\n",
    "    \"\"\"\n",
    "    if normalize:\n",
    "        cm = cm.astype('float') / cm.sum(axis=1)[:, np.newaxis]\n",
    "        print(\"Normalized confusion matrix\")\n",
    "    else:\n",
    "        print('Confusion matrix, without normalization')\n",
    "\n",
    "    print(cm)\n",
    "\n",
    "    plt.imshow(cm, interpolation='nearest', cmap=cmap)\n",
    "    plt.title(title)\n",
    "    plt.colorbar()\n",
    "    tick_marks = np.arange(len(classes))\n",
    "    plt.xticks(tick_marks, classes, rotation=45)\n",
    "    plt.yticks(tick_marks, classes)\n",
    "\n",
    "    fmt = '.2f' if normalize else 'd'\n",
    "    thresh = cm.max() / 2.\n",
    "    for i, j in itertools.product(range(cm.shape[0]), range(cm.shape[1])):\n",
    "        plt.text(j, i, format(cm[i, j], fmt),\n",
    "                 horizontalalignment=\"center\",\n",
    "                 color=\"white\" if cm[i, j] > thresh else \"black\")\n",
    "\n",
    "    plt.tight_layout()\n",
    "    plt.ylabel('True label')\n",
    "    plt.xlabel('Predicted label')\n",
    "\n",
    "# Compute confusion matrix\n",
    "cnf_matrix =confusion_matrix(y_test_svm,Y_predict, labels=None, sample_weight=None)\n",
    "np.set_printoptions(precision=2)\n",
    "class_names = ['Anger', 'Disgust', 'Fear', 'Happy', 'Sad', 'Surprise', 'Neutral']\n",
    "\n",
    "\n",
    "plt.figure()\n",
    "plot_confusion_matrix(cnf_matrix, classes=class_names, normalize=True,\n",
    "                      title='SIFT-SVM Confusion Matrix')\n",
    "\n",
    "plt.show()\n"
   ]
  },
  {
   "cell_type": "code",
   "execution_count": 8,
   "metadata": {},
   "outputs": [
    {
     "data": {
      "text/plain": [
       "(array([0.12, 0.02, 0.14, 0.25, 0.16, 0.13, 0.15]),\n",
       " array([0.15, 0.02, 0.18, 0.16, 0.21, 0.07, 0.18]),\n",
       " array([0.13, 0.02, 0.16, 0.19, 0.18, 0.09, 0.17]),\n",
       " array([484,  56, 501, 920, 599, 442, 586]))"
      ]
     },
     "execution_count": 8,
     "metadata": {},
     "output_type": "execute_result"
    }
   ],
   "source": [
    "from sklearn.metrics import precision_recall_fscore_support\n",
    "precision_recall_fscore_support(y_test_svm,Y_predict)"
   ]
  },
  {
   "cell_type": "code",
   "execution_count": null,
   "metadata": {},
   "outputs": [],
   "source": []
  }
 ],
 "metadata": {
  "kernelspec": {
   "display_name": "Python 3",
   "language": "python",
   "name": "python3"
  },
  "language_info": {
   "codemirror_mode": {
    "name": "ipython",
    "version": 3
   },
   "file_extension": ".py",
   "mimetype": "text/x-python",
   "name": "python",
   "nbconvert_exporter": "python",
   "pygments_lexer": "ipython3",
   "version": "3.6.4"
  }
 },
 "nbformat": 4,
 "nbformat_minor": 2
}
